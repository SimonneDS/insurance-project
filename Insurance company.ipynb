{
 "cells": [
  {
   "cell_type": "markdown",
   "metadata": {},
   "source": [
    "# Description"
   ]
  },
  {
   "cell_type": "markdown",
   "metadata": {},
   "source": [
    "Sure Tomorrow Insurance Company Machine Learning Tasks\n",
    "The Sure Tomorrow insurance company seeks to leverage machine learning to solve several key business challenges. The following outlines the potential of machine learning for each task.\n",
    "\n",
    "Task 1: Finding Similar Clients\n",
    "This task, which is essential for effective marketing, can be addressed using unsupervised learning techniques, specifically clustering. By applying algorithms like K-Means or DBSCAN to client data, we can identify natural groupings of customers who share similar characteristics, such as demographics, policy types, and claims history. This will enable marketing agents to develop highly targeted marketing campaigns for each distinct client segment.\n",
    "\n",
    "Task 2: Predicting the Probability of an Insurance Benefit\n",
    "This is a binary classification problem. The objective is to predict whether a new client will receive an insurance benefit, which is a yes/no outcome. A machine learning model, such as logistic regression, a decision tree, or a gradient boosting model, can be trained on historical data to identify the factors that predict a benefit claim. This predictive model will significantly outperform a simple dummy model by leveraging complex patterns in the data, providing more accurate and actionable insights. Model performance can be evaluated using standard metrics like accuracy, precision, and and recall.\n",
    "\n",
    "Task 3: Predicting the Number of Insurance Benefits\n",
    "This is a regression problem, as the target variable is a continuous numerical value (the number of benefits). A linear regression model is a suitable choice for this task. It can be used to establish a linear relationship between a client's features (e.g., age, policy duration) and the expected number of benefits. Other regression models, such as Ridge or Lasso regression, could also be explored to enhance performance and manage potential overfitting.\n",
    "\n",
    "Task 4: Protecting Personal Data\n",
    "This task requires a data obfuscation or data masking strategy to protect sensitive client information while maintaining the integrity of the machine learning models. The proposed approach is to develop a data transformation algorithm that encrypts or hashes personal data in a way that is difficult to reverse. For example, a client's name can be replaced with a unique, consistent hash value. The key is that the transformation must be deterministic; the same input data must always produce the same transformed output. This ensures that the model can still identify and learn from the features associated with a particular client, even though their personal identity remains secure. The effectiveness of the algorithm can be demonstrated by showing that a model trained on the obfuscated data performs as well as a model trained on the original, unmasked data."
   ]
  },
  {
   "cell_type": "markdown",
   "metadata": {},
   "source": [
    "# Data Preprocessing and Exploration\n",
    "## Initialization"
   ]
  },
  {
   "cell_type": "code",
   "execution_count": null,
   "metadata": {},
   "outputs": [],
   "source": [
    "import numpy as np\n",
    "import pandas as pd\n",
    "import matplotlib.pyplot as plt\n",
    "import math\n",
    "\n",
    "import seaborn as sns\n",
    "\n",
    "import sklearn.linear_model\n",
    "import sklearn.metrics\n",
    "import sklearn.neighbors\n",
    "import sklearn.preprocessing\n",
    "from sklearn.neighbors import NearestNeighbors\n",
    "from sklearn.preprocessing import MaxAbsScaler\n",
    "from sklearn.dummy import DummyClassifier\n",
    "from sklearn.neighbors import KNeighborsClassifier\n",
    "from sklearn.metrics import f1_score\n",
    "from sklearn.model_selection import train_test_split\n",
    "\n",
    "from IPython.display import display"
   ]
  },
  {
   "cell_type": "markdown",
   "metadata": {},
   "source": [
    "## Data Loading"
   ]
  },
  {
   "cell_type": "markdown",
   "metadata": {},
   "source": [
    "Load the data and perform a basic review to check for issues."
   ]
  },
  {
   "cell_type": "code",
   "execution_count": null,
   "metadata": {},
   "outputs": [],
   "source": [
    "df = pd.read_csv('/datasets/insurance_us.csv')"
   ]
  },
  {
   "cell_type": "markdown",
   "metadata": {},
   "source": [
    "Rename the columns to make the code look more consistent with its style."
   ]
  },
  {
   "cell_type": "code",
   "execution_count": null,
   "metadata": {},
   "outputs": [],
   "source": [
    "df = df.rename(columns={'Gender': 'gender', 'Age': 'age', 'Salary': 'income', 'Family members': 'family_members', 'Insurance benefits': 'insurance_benefits'})"
   ]
  },
  {
   "cell_type": "code",
   "execution_count": null,
   "metadata": {},
   "outputs": [
    {
     "data": {
      "text/html": [
       "<div>\n",
       "<style scoped>\n",
       "    .dataframe tbody tr th:only-of-type {\n",
       "        vertical-align: middle;\n",
       "    }\n",
       "\n",
       "    .dataframe tbody tr th {\n",
       "        vertical-align: top;\n",
       "    }\n",
       "\n",
       "    .dataframe thead th {\n",
       "        text-align: right;\n",
       "    }\n",
       "</style>\n",
       "<table border=\"1\" class=\"dataframe\">\n",
       "  <thead>\n",
       "    <tr style=\"text-align: right;\">\n",
       "      <th></th>\n",
       "      <th>gender</th>\n",
       "      <th>age</th>\n",
       "      <th>income</th>\n",
       "      <th>family_members</th>\n",
       "      <th>insurance_benefits</th>\n",
       "    </tr>\n",
       "  </thead>\n",
       "  <tbody>\n",
       "    <tr>\n",
       "      <th>1184</th>\n",
       "      <td>0</td>\n",
       "      <td>28.0</td>\n",
       "      <td>26600.0</td>\n",
       "      <td>0</td>\n",
       "      <td>0</td>\n",
       "    </tr>\n",
       "    <tr>\n",
       "      <th>599</th>\n",
       "      <td>0</td>\n",
       "      <td>20.0</td>\n",
       "      <td>22200.0</td>\n",
       "      <td>0</td>\n",
       "      <td>0</td>\n",
       "    </tr>\n",
       "    <tr>\n",
       "      <th>2925</th>\n",
       "      <td>1</td>\n",
       "      <td>43.0</td>\n",
       "      <td>28300.0</td>\n",
       "      <td>1</td>\n",
       "      <td>1</td>\n",
       "    </tr>\n",
       "    <tr>\n",
       "      <th>888</th>\n",
       "      <td>0</td>\n",
       "      <td>35.0</td>\n",
       "      <td>46300.0</td>\n",
       "      <td>2</td>\n",
       "      <td>0</td>\n",
       "    </tr>\n",
       "    <tr>\n",
       "      <th>3689</th>\n",
       "      <td>1</td>\n",
       "      <td>37.0</td>\n",
       "      <td>52000.0</td>\n",
       "      <td>1</td>\n",
       "      <td>0</td>\n",
       "    </tr>\n",
       "    <tr>\n",
       "      <th>3894</th>\n",
       "      <td>0</td>\n",
       "      <td>21.0</td>\n",
       "      <td>41700.0</td>\n",
       "      <td>2</td>\n",
       "      <td>0</td>\n",
       "    </tr>\n",
       "    <tr>\n",
       "      <th>2274</th>\n",
       "      <td>1</td>\n",
       "      <td>41.0</td>\n",
       "      <td>30200.0</td>\n",
       "      <td>0</td>\n",
       "      <td>0</td>\n",
       "    </tr>\n",
       "    <tr>\n",
       "      <th>2872</th>\n",
       "      <td>0</td>\n",
       "      <td>34.0</td>\n",
       "      <td>47700.0</td>\n",
       "      <td>1</td>\n",
       "      <td>0</td>\n",
       "    </tr>\n",
       "    <tr>\n",
       "      <th>4311</th>\n",
       "      <td>1</td>\n",
       "      <td>21.0</td>\n",
       "      <td>35800.0</td>\n",
       "      <td>2</td>\n",
       "      <td>0</td>\n",
       "    </tr>\n",
       "    <tr>\n",
       "      <th>3540</th>\n",
       "      <td>1</td>\n",
       "      <td>28.0</td>\n",
       "      <td>40200.0</td>\n",
       "      <td>3</td>\n",
       "      <td>0</td>\n",
       "    </tr>\n",
       "  </tbody>\n",
       "</table>\n",
       "</div>"
      ],
      "text/plain": [
       "      gender   age   income  family_members  insurance_benefits\n",
       "1184       0  28.0  26600.0               0                   0\n",
       "599        0  20.0  22200.0               0                   0\n",
       "2925       1  43.0  28300.0               1                   1\n",
       "888        0  35.0  46300.0               2                   0\n",
       "3689       1  37.0  52000.0               1                   0\n",
       "3894       0  21.0  41700.0               2                   0\n",
       "2274       1  41.0  30200.0               0                   0\n",
       "2872       0  34.0  47700.0               1                   0\n",
       "4311       1  21.0  35800.0               2                   0\n",
       "3540       1  28.0  40200.0               3                   0"
      ]
     },
     "execution_count": 36,
     "metadata": {},
     "output_type": "execute_result"
    }
   ],
   "source": [
    "df.sample(10)"
   ]
  },
  {
   "cell_type": "code",
   "execution_count": null,
   "metadata": {},
   "outputs": [
    {
     "name": "stdout",
     "output_type": "stream",
     "text": [
      "<class 'pandas.core.frame.DataFrame'>\n",
      "RangeIndex: 5000 entries, 0 to 4999\n",
      "Data columns (total 5 columns):\n",
      " #   Column              Non-Null Count  Dtype  \n",
      "---  ------              --------------  -----  \n",
      " 0   gender              5000 non-null   int64  \n",
      " 1   age                 5000 non-null   float64\n",
      " 2   income              5000 non-null   float64\n",
      " 3   family_members      5000 non-null   int64  \n",
      " 4   insurance_benefits  5000 non-null   int64  \n",
      "dtypes: float64(2), int64(3)\n",
      "memory usage: 195.4 KB\n"
     ]
    }
   ],
   "source": [
    "df.info()"
   ]
  },
  {
   "cell_type": "code",
   "execution_count": null,
   "metadata": {},
   "outputs": [],
   "source": [
    "df['age'] = df['age'].astype(int)"
   ]
  },
  {
   "cell_type": "code",
   "execution_count": null,
   "metadata": {},
   "outputs": [
    {
     "name": "stdout",
     "output_type": "stream",
     "text": [
      "<class 'pandas.core.frame.DataFrame'>\n",
      "RangeIndex: 5000 entries, 0 to 4999\n",
      "Data columns (total 5 columns):\n",
      " #   Column              Non-Null Count  Dtype  \n",
      "---  ------              --------------  -----  \n",
      " 0   gender              5000 non-null   int64  \n",
      " 1   age                 5000 non-null   int64  \n",
      " 2   income              5000 non-null   float64\n",
      " 3   family_members      5000 non-null   int64  \n",
      " 4   insurance_benefits  5000 non-null   int64  \n",
      "dtypes: float64(1), int64(4)\n",
      "memory usage: 195.4 KB\n"
     ]
    }
   ],
   "source": [
    "df.info()"
   ]
  },
  {
   "cell_type": "code",
   "execution_count": null,
   "metadata": {},
   "outputs": [
    {
     "data": {
      "text/html": [
       "<div>\n",
       "<style scoped>\n",
       "    .dataframe tbody tr th:only-of-type {\n",
       "        vertical-align: middle;\n",
       "    }\n",
       "\n",
       "    .dataframe tbody tr th {\n",
       "        vertical-align: top;\n",
       "    }\n",
       "\n",
       "    .dataframe thead th {\n",
       "        text-align: right;\n",
       "    }\n",
       "</style>\n",
       "<table border=\"1\" class=\"dataframe\">\n",
       "  <thead>\n",
       "    <tr style=\"text-align: right;\">\n",
       "      <th></th>\n",
       "      <th>gender</th>\n",
       "      <th>age</th>\n",
       "      <th>income</th>\n",
       "      <th>family_members</th>\n",
       "      <th>insurance_benefits</th>\n",
       "    </tr>\n",
       "  </thead>\n",
       "  <tbody>\n",
       "    <tr>\n",
       "      <th>count</th>\n",
       "      <td>5000.000000</td>\n",
       "      <td>5000.000000</td>\n",
       "      <td>5000.000000</td>\n",
       "      <td>5000.000000</td>\n",
       "      <td>5000.000000</td>\n",
       "    </tr>\n",
       "    <tr>\n",
       "      <th>mean</th>\n",
       "      <td>0.499000</td>\n",
       "      <td>30.952800</td>\n",
       "      <td>39916.360000</td>\n",
       "      <td>1.194200</td>\n",
       "      <td>0.148000</td>\n",
       "    </tr>\n",
       "    <tr>\n",
       "      <th>std</th>\n",
       "      <td>0.500049</td>\n",
       "      <td>8.440807</td>\n",
       "      <td>9900.083569</td>\n",
       "      <td>1.091387</td>\n",
       "      <td>0.463183</td>\n",
       "    </tr>\n",
       "    <tr>\n",
       "      <th>min</th>\n",
       "      <td>0.000000</td>\n",
       "      <td>18.000000</td>\n",
       "      <td>5300.000000</td>\n",
       "      <td>0.000000</td>\n",
       "      <td>0.000000</td>\n",
       "    </tr>\n",
       "    <tr>\n",
       "      <th>25%</th>\n",
       "      <td>0.000000</td>\n",
       "      <td>24.000000</td>\n",
       "      <td>33300.000000</td>\n",
       "      <td>0.000000</td>\n",
       "      <td>0.000000</td>\n",
       "    </tr>\n",
       "    <tr>\n",
       "      <th>50%</th>\n",
       "      <td>0.000000</td>\n",
       "      <td>30.000000</td>\n",
       "      <td>40200.000000</td>\n",
       "      <td>1.000000</td>\n",
       "      <td>0.000000</td>\n",
       "    </tr>\n",
       "    <tr>\n",
       "      <th>75%</th>\n",
       "      <td>1.000000</td>\n",
       "      <td>37.000000</td>\n",
       "      <td>46600.000000</td>\n",
       "      <td>2.000000</td>\n",
       "      <td>0.000000</td>\n",
       "    </tr>\n",
       "    <tr>\n",
       "      <th>max</th>\n",
       "      <td>1.000000</td>\n",
       "      <td>65.000000</td>\n",
       "      <td>79000.000000</td>\n",
       "      <td>6.000000</td>\n",
       "      <td>5.000000</td>\n",
       "    </tr>\n",
       "  </tbody>\n",
       "</table>\n",
       "</div>"
      ],
      "text/plain": [
       "            gender          age        income  family_members  \\\n",
       "count  5000.000000  5000.000000   5000.000000     5000.000000   \n",
       "mean      0.499000    30.952800  39916.360000        1.194200   \n",
       "std       0.500049     8.440807   9900.083569        1.091387   \n",
       "min       0.000000    18.000000   5300.000000        0.000000   \n",
       "25%       0.000000    24.000000  33300.000000        0.000000   \n",
       "50%       0.000000    30.000000  40200.000000        1.000000   \n",
       "75%       1.000000    37.000000  46600.000000        2.000000   \n",
       "max       1.000000    65.000000  79000.000000        6.000000   \n",
       "\n",
       "       insurance_benefits  \n",
       "count         5000.000000  \n",
       "mean             0.148000  \n",
       "std              0.463183  \n",
       "min              0.000000  \n",
       "25%              0.000000  \n",
       "50%              0.000000  \n",
       "75%              0.000000  \n",
       "max              5.000000  "
      ]
     },
     "execution_count": 40,
     "metadata": {},
     "output_type": "execute_result"
    }
   ],
   "source": [
    "df.describe()"
   ]
  },
  {
   "cell_type": "markdown",
   "metadata": {},
   "source": [
    "The dataset under analysis consists of a sample of 5,000 records, including relevant variables such as gender, age, annual income, number of family members, and insurance benefits. After reviewing the descriptive statistics, it is clear that the values are within reasonable ranges and are consistent with typical demographic and socioeconomic information. No obvious outliers or missing data were detected, and the numerical variables show a coherent distribution. Specifically, age ranges from 18 to 65 years, with a mean of approximately 31 years, while income fluctuates between $5,300 and $79,000 annually. In summary, the dataset is in good condition and is suitable for further exploratory analysis or predictive modeling."
   ]
  },
  {
   "cell_type": "markdown",
   "metadata": {},
   "source": [
    "## Exploratory Data Analysis"
   ]
  },
  {
   "cell_type": "markdown",
   "metadata": {},
   "source": [
    "Quickly check for distinct customer groups by observing the pair plot."
   ]
  },
  {
   "cell_type": "code",
   "execution_count": null,
   "metadata": {},
   "outputs": [
    {
     "data": {
      "image/png": "[encoded data removed]",
      "text/plain": [
       "<Figure size 1200x1200 with 30 Axes>"
      ]
     },
     "metadata": {},
     "output_type": "display_data"
    }
   ],
   "source": [
    "g = sns.pairplot(df, kind='hist')\n",
    "g.fig.set_size_inches(12, 12)"
   ]
  },
  {
   "cell_type": "markdown",
   "metadata": {},
   "source": [
    "It's a bit complicated to detect obvious groups (clusters) since it's difficult to combine diverse variables simultaneously (to analyze multivariate distributions). This is where LA (Linear Algebra) and ML (Machine Learning) can be quite useful."
   ]
  },
  {
   "cell_type": "markdown",
   "metadata": {},
   "source": [
    "# Task 1. Similar Clients"
   ]
  },
  {
   "cell_type": "markdown",
   "metadata": {},
   "source": [
    "In machine learning terminology, we need to develop a procedure that returns the k-nearest neighbors (objects) for a given object, based on the distance between them.\n",
    "\n",
    "You may want to review the following lessons (chapter -> lesson):\n",
    "- Distance Between Vectors -> Euclidean Distance\n",
    "- Distance Between Vectors -> Manhattan Distance\n",
    "\n",
    "To solve this task, we can test different distance metrics."
   ]
  },
  {
   "cell_type": "code",
   "execution_count": null,
   "metadata": {},
   "outputs": [],
   "source": [
    "feature_names = ['gender', 'age', 'income', 'family_members']"
   ]
  },
  {
   "cell_type": "code",
   "execution_count": null,
   "metadata": {},
   "outputs": [],
   "source": [
    "# Columns kNN\n",
    "feature_names = ['gender', 'age', 'income', 'family_members']\n",
    "\n",
    "def get_knn(df, n, k, metric, scaled=False):\n",
    "    \"\"\"\n",
    "   Returns the k-nearest neighbors.\n",
    "\n",
    "    :param df: pandas DataFrame\n",
    "    :param n: index of the object for which to find neighbors\n",
    "    :param k: number of neighbors to return\n",
    "    :param metric: 'euclidean' or 'manhattan'\n",
    "    :param scaled: whether to scale the data with MaxAbsScaler\n",
    "    :return: DataFrame with the k-nearest neighbors and their distances\n",
    "    \"\"\"\n",
    "    df_features = df[feature_names].copy()\n",
    "\n",
    "    # Scale if necessary\n",
    "    if scaled:\n",
    "        scaler = MaxAbsScaler()\n",
    "        df_scaled = pd.DataFrame(scaler.fit_transform(df_features), columns=feature_names)\n",
    "    else:\n",
    "        df_scaled = df_features.copy()\n",
    "\n",
    "    # Initialize the model\n",
    "    nbrs = NearestNeighbors(n_neighbors=k, metric=metric)\n",
    "    nbrs.fit(df_scaled)\n",
    "\n",
    "    # Get neighbors for object n\n",
    "    distances, indices = nbrs.kneighbors([df_scaled.iloc[n]], return_distance=True)\n",
    "\n",
    "    # Combine the neighbors with the distances.\n",
    "    df_result = df.iloc[indices[0]].copy()\n",
    "    df_result['distance'] = distances[0]\n",
    "\n",
    "    return df_result\n"
   ]
  },
  {
   "cell_type": "markdown",
   "metadata": {},
   "source": [
    "Checking scaled DataFrame"
   ]
  },
  {
   "cell_type": "code",
   "execution_count": null,
   "metadata": {},
   "outputs": [
    {
     "data": {
      "text/html": [
       "<div>\n",
       "<style scoped>\n",
       "    .dataframe tbody tr th:only-of-type {\n",
       "        vertical-align: middle;\n",
       "    }\n",
       "\n",
       "    .dataframe tbody tr th {\n",
       "        vertical-align: top;\n",
       "    }\n",
       "\n",
       "    .dataframe thead th {\n",
       "        text-align: right;\n",
       "    }\n",
       "</style>\n",
       "<table border=\"1\" class=\"dataframe\">\n",
       "  <thead>\n",
       "    <tr style=\"text-align: right;\">\n",
       "      <th></th>\n",
       "      <th>gender</th>\n",
       "      <th>age</th>\n",
       "      <th>income</th>\n",
       "      <th>family_members</th>\n",
       "    </tr>\n",
       "  </thead>\n",
       "  <tbody>\n",
       "    <tr>\n",
       "      <th>4224</th>\n",
       "      <td>0.0</td>\n",
       "      <td>0.523077</td>\n",
       "      <td>0.582278</td>\n",
       "      <td>0.166667</td>\n",
       "    </tr>\n",
       "    <tr>\n",
       "      <th>3766</th>\n",
       "      <td>1.0</td>\n",
       "      <td>0.446154</td>\n",
       "      <td>0.501266</td>\n",
       "      <td>0.000000</td>\n",
       "    </tr>\n",
       "    <tr>\n",
       "      <th>3128</th>\n",
       "      <td>0.0</td>\n",
       "      <td>0.430769</td>\n",
       "      <td>0.601266</td>\n",
       "      <td>0.000000</td>\n",
       "    </tr>\n",
       "    <tr>\n",
       "      <th>42</th>\n",
       "      <td>1.0</td>\n",
       "      <td>0.646154</td>\n",
       "      <td>0.875949</td>\n",
       "      <td>0.000000</td>\n",
       "    </tr>\n",
       "    <tr>\n",
       "      <th>4288</th>\n",
       "      <td>0.0</td>\n",
       "      <td>0.692308</td>\n",
       "      <td>0.678481</td>\n",
       "      <td>0.166667</td>\n",
       "    </tr>\n",
       "  </tbody>\n",
       "</table>\n",
       "</div>"
      ],
      "text/plain": [
       "      gender       age    income  family_members\n",
       "4224     0.0  0.523077  0.582278        0.166667\n",
       "3766     1.0  0.446154  0.501266        0.000000\n",
       "3128     0.0  0.430769  0.601266        0.000000\n",
       "42       1.0  0.646154  0.875949        0.000000\n",
       "4288     0.0  0.692308  0.678481        0.166667"
      ]
     },
     "execution_count": 44,
     "metadata": {},
     "output_type": "execute_result"
    }
   ],
   "source": [
    "scaler = MaxAbsScaler()\n",
    "df_scaled = pd.DataFrame(scaler.fit_transform(df[feature_names]), columns=feature_names)\n",
    "df_scaled.sample(5)"
   ]
  },
  {
   "cell_type": "markdown",
   "metadata": {},
   "source": [
    "Let's find similar records for a specific client across all four combinations."
   ]
  },
  {
   "cell_type": "code",
   "execution_count": null,
   "metadata": {},
   "outputs": [],
   "source": [
    "n = 0  # index of the object to find neighbors for\n",
    "k = 5  # number of neighbors to return"
   ]
  },
  {
   "cell_type": "code",
   "execution_count": null,
   "metadata": {},
   "outputs": [
    {
     "name": "stdout",
     "output_type": "stream",
     "text": [
      "No escalado - Distancia Euclidiana\n",
      "      gender  age   income  family_members  insurance_benefits  distance\n",
      "0          1   41  49600.0               1                   0  0.000000\n",
      "2022       1   41  49600.0               0                   0  1.000000\n",
      "1225       0   42  49600.0               0                   1  1.732051\n",
      "4031       1   44  49600.0               2                   1  3.162278\n",
      "3424       0   38  49600.0               0                   0  3.316625\n"
     ]
    }
   ],
   "source": [
    "print(\"Unscaled - Euclidean Distance\")\n",
    "print(get_knn(df, n, k, metric='euclidean', scaled=False))"
   ]
  },
  {
   "cell_type": "code",
   "execution_count": null,
   "metadata": {},
   "outputs": [
    {
     "name": "stdout",
     "output_type": "stream",
     "text": [
      "\n",
      "No escalado - Distancia Manhattan\n",
      "      gender  age   income  family_members  insurance_benefits  distance\n",
      "0          1   41  49600.0               1                   0       0.0\n",
      "2022       1   41  49600.0               0                   0       1.0\n",
      "1225       0   42  49600.0               0                   1       3.0\n",
      "4031       1   44  49600.0               2                   1       4.0\n",
      "3424       0   38  49600.0               0                   0       5.0\n"
     ]
    }
   ],
   "source": [
    "print(\"Unscaled - Manhattan Distance\")\n",
    "print(get_knn(df, n, k, metric='manhattan', scaled=False))"
   ]
  },
  {
   "cell_type": "code",
   "execution_count": null,
   "metadata": {},
   "outputs": [
    {
     "name": "stdout",
     "output_type": "stream",
     "text": [
      "\n",
      "Escalado MaxAbs - Distancia Euclidiana\n",
      "      gender  age   income  family_members  insurance_benefits  distance\n",
      "0          1   41  49600.0               1                   0  0.000000\n",
      "2689       1   41  50100.0               1                   0  0.006329\n",
      "133        1   40  50300.0               1                   0  0.017754\n",
      "4869       1   42  50400.0               1                   1  0.018418\n",
      "3275       1   42  51500.0               1                   1  0.028550\n"
     ]
    }
   ],
   "source": [
    "print(\"MaxAbs Scaled - Euclidean Distance\")\n",
    "print(get_knn(df, n, k, metric='euclidean', scaled=True))"
   ]
  },
  {
   "cell_type": "code",
   "execution_count": null,
   "metadata": {},
   "outputs": [
    {
     "name": "stdout",
     "output_type": "stream",
     "text": [
      "\n",
      "Escalado MaxAbs - Distancia Manhattan\n",
      "      gender  age   income  family_members  insurance_benefits  distance\n",
      "0          1   41  49600.0               1                   0  0.000000\n",
      "2689       1   41  50100.0               1                   0  0.006329\n",
      "133        1   40  50300.0               1                   0  0.024245\n",
      "4869       1   42  50400.0               1                   1  0.025511\n",
      "3365       1   41  47100.0               1                   0  0.031646\n"
     ]
    }
   ],
   "source": [
    "print(\"MaxAbs Scaled - Manhattan Distance\")\n",
    "print(get_knn(df, n, k, metric='manhattan', scaled=True))"
   ]
  },
  {
   "cell_type": "markdown",
   "metadata": {},
   "source": [
    "\n",
    "**Does not scaling the data affect the kNN algorithm? If so, how is this manifested?**\n",
    "\n",
    "Yes, not scaling the data has a significant effect on the kNN algorithm. Here is a more detailed breakdown:\n",
    "\n",
    "Impact of Unscaled Data on kNN\n",
    "\n",
    "kNN is a distance-based algorithm. This means it finds the nearest neighbors by calculating the distance between data points in a multi-dimensional space. When features have widely different scales—for example, income ranging from $5,000 to $80,000 and age from 18 to 65—the distance calculation will be heavily dominated by the feature with the largest magnitude.\n",
    "\n",
    "This is manifested in the following ways:\n",
    "\n",
    "Skewed Results: The algorithm will prioritize similarities in the high-magnitude feature while essentially ignoring the others. This can lead to misleading results where the \"nearest neighbors\" are simply those with similar incomes, regardless of how different they are in age, gender, or family size.\n",
    "\n",
    "Reduced Influence of Key Features: Important features with smaller numerical ranges may have very little influence on the distance metric, even if they are highly relevant for defining a \"similar\" customer.\n",
    "\n",
    "Inconsistent Neighbor Selection: When you compare the results from the unscaled data with the results from the scaled data, you will often find a completely different set of neighbors. The scaled results are generally more reliable as they provide a more balanced view of similarity across all features."
   ]
  },
  {
   "cell_type": "markdown",
   "metadata": {},
   "source": [
    "**How similar are the results when using the Manhattan distance metric (regardless of scaling)?**\n",
    "\n",
    "Manhattan distance tends to be more robust to certain data distributions, especially when there are many dimensions or extreme values.\n",
    "Regardless of scaling, the neighbors obtained with Manhattan distance tend to be similar but not identical to those obtained with Euclidean distance. The similarity depends on the dataset. If all variables are on a comparable scale (scaled), the difference between using Manhattan and Euclidean is usually minor."
   ]
  },
  {
   "cell_type": "code",
   "execution_count": null,
   "metadata": {},
   "outputs": [],
   "source": [
    "# Columns to use\n",
    "feature_names = ['gender', 'age', 'income', 'family_members']\n",
    "\n",
    "# Original (unscaled)\n",
    "df_original = df[feature_names].copy()\n",
    "\n",
    "# Scaled with MaxAbsScaler\n",
    "scaler = MaxAbsScaler()\n",
    "df_scaled = pd.DataFrame(scaler.fit_transform(df_original), columns=feature_names)"
   ]
  },
  {
   "cell_type": "code",
   "execution_count": null,
   "metadata": {},
   "outputs": [
    {
     "data": {
      "image/png": "[encoded data removed]",
      "text/plain": [
       "<Figure size 1200x1200 with 8 Axes>"
      ]
     },
     "metadata": {},
     "output_type": "display_data"
    }
   ],
   "source": [
    "# Comparative Histograms\n",
    "fig, axes = plt.subplots(nrows=4, ncols=2, figsize=(12, 12))\n",
    "fig.suptitle(\"Distribution of Variables Before and After Scaling\", fontsize=16)\n",
    "\n",
    "for i, feature in enumerate(feature_names):\n",
    "    # Unscaled\n",
    "    sns.histplot(df_original[feature], ax=axes[i, 0], kde=True, color='skyblue')\n",
    "    axes[i, 0].set_title(f\"{feature} (Original)\")\n",
    "\n",
    "    # Scaled\n",
    "    sns.histplot(df_scaled[feature], ax=axes[i, 1], kde=True, color='lightgreen')\n",
    "    axes[i, 1].set_title(f\"{feature} (Scaled)\")\n",
    "\n",
    "plt.tight_layout(rect=[0, 0.03, 1, 0.95])\n",
    "plt.show()\n"
   ]
  },
  {
   "cell_type": "code",
   "execution_count": null,
   "metadata": {},
   "outputs": [
    {
     "data": {
      "image/png": "[encoded data removed]",
      "text/plain": [
       "<Figure size 1400x500 with 2 Axes>"
      ]
     },
     "metadata": {},
     "output_type": "display_data"
    }
   ],
   "source": [
    "# Boxplot comparativo\n",
    "fig, axes = plt.subplots(nrows=1, ncols=2, figsize=(14, 5))\n",
    "\n",
    "# Original\n",
    "sns.boxplot(data=df_original, ax=axes[0])\n",
    "axes[0].set_title(\"Datos originales\")\n",
    "\n",
    "# Escalado\n",
    "sns.boxplot(data=df_scaled, ax=axes[1])\n",
    "axes[1].set_title(\"Datos escalados con MaxAbsScaler\")\n",
    "\n",
    "plt.tight_layout()\n",
    "# Comparative Histograms\n",
    "fig, axes = plt.subplots(nrows=4, ncols=2, figsize=(12, 12))\n",
    "fig.suptitle(\"Distribution of Variables Before and After Scaling\", fontsize=16)\n",
    "\n",
    "for i, feature in enumerate(feature_names):\n",
    "    # Unscaled\n",
    "    sns.histplot(df_original[feature], ax=axes[i, 0], kde=True, color='skyblue')\n",
    "    axes[i, 0].set_title(f\"{feature} (Original)\")\n",
    "\n",
    "    # Scaled\n",
    "    sns.histplot(df_scaled[feature], ax=axes[i, 1], kde=True, color='lightgreen')\n",
    "    axes[i, 1].set_title(f\"{feature} (Scaled)\")\n",
    "\n",
    "plt.tight_layout(rect=[0, 0.03, 1, 0.95])\n",
    "plt.show()\n"
   ]
  },
  {
   "cell_type": "markdown",
   "metadata": {},
   "source": [
    "* After scaling, all variables will be in a range between 0 and 1 (or -1 to 1 if there are negative values).\n",
    "* This eliminates the dominance of features with larger magnitudes (like income), allowing the kNN algorithm to evaluate all variables on an equal footing.\n",
    "* In the boxplots, we observe that the scaled data is \"flattened,\" but the shape of its distribution is preserved (only the scale changes, not the shape)."
   ]
  },
  {
   "cell_type": "markdown",
   "metadata": {},
   "source": [
    "# Task 2. Is a client likely to receive an insurance benefit?"
   ]
  },
  {
   "cell_type": "markdown",
   "metadata": {},
   "source": [
    "In machine learning terms, we can consider this a binary classification task."
   ]
  },
  {
   "cell_type": "markdown",
   "metadata": {},
   "source": [
    "With the insurance_benefits value greater than zero as the target, evaluate if the kNN classification approach can perform better than the dummy model.\n",
    "\n",
    "Instructions:\n",
    "\n",
    "Build a kNN classifier and measure its quality with the F1 metric for k=1...10 for both original and scaled data. It would be interesting to see how k can influence the evaluation metric and if data scaling causes any difference. You can use an existing implementation of the scikit-learn kNN classification algorithm (see the link) or your own implementation.\n",
    "\n",
    "Build a dummy model which, in this case, is simply a random model. It should return \"1\" with a certain probability. Let's test the model with four probability values: 0, the probability of paying any insurance benefit, 0.5, and 1.\n",
    "\n",
    "The probability of paying any insurance benefit can be defined as:\n",
    "\n",
    "P{insurance benefit received}= number of clients who received any insurance benefit/total number of clients\n",
    "\n",
    "​Divide all data corresponding to the training/test stages, respecting the 70:30 ratio."
   ]
  },
  {
   "cell_type": "code",
   "execution_count": null,
   "metadata": {},
   "outputs": [],
   "source": [
    "# Calculate the target\n",
    "\n",
    "# Define columns to use\n",
    "feature_names = ['gender', 'age', 'income', 'family_members']\n",
    "\n",
    "# Create the new binary column: 1 if benefit received, 0 if not\n",
    "df['insurance_benefits_received'] = (df['insurance_benefits'] > 0).astype(int)\n",
    "\n",
    "# Separate features and target\n",
    "X = df[feature_names]\n",
    "y = df['insurance_benefits_received']\n",
    "\n",
    "# Split into training and testing sets (70/30)\n",
    "X_train, X_test, y_train, y_test = train_test_split(\n",
    "    X, y, test_size=0.3, random_state=42, stratify=y\n",
    ")\n",
    "\n",
    "# Scale the data with MaxAbsScaler\n",
    "scaler = MaxAbsScaler()\n",
    "X_train_scaled = scaler.fit_transform(X_train)\n",
    "X_test_scaled = scaler.transform(X_test)\n"
   ]
  },
  {
   "cell_type": "code",
   "execution_count": null,
   "metadata": {},
   "outputs": [
    {
     "name": "stdout",
     "output_type": "stream",
     "text": [
      "0    4436\n",
      "1     564\n",
      "Name: insurance_benefits_received, dtype: int64\n",
      "0    0.8872\n",
      "1    0.1128\n",
      "Name: insurance_benefits_received, dtype: float64\n"
     ]
    }
   ],
   "source": [
    "# Check for class imbalance\n",
    "# Class count\n",
    "print(df['insurance_benefits_received'].value_counts())\n",
    "\n",
    "# Also with proportions\n",
    "print(df['insurance_benefits_received'].value_counts(normalize=True))"
   ]
  },
  {
   "cell_type": "code",
   "execution_count": null,
   "metadata": {},
   "outputs": [],
   "source": [
    "def eval_classifier(y_true, y_pred):\n",
    "    \n",
    "    f1_score = sklearn.metrics.f1_score(y_true, y_pred)\n",
    "    print(f'F1: {f1_score:.2f}')\n",
    "    \n",
    "# if you have any problems with the next line, restart the kernel and run the notebook again\n",
    "    cm = sklearn.metrics.confusion_matrix(y_true, y_pred, normalize='all')\n",
    "    print('Confusion Matrix')\n",
    "    print(cm)"
   ]
  },
  {
   "cell_type": "code",
   "execution_count": null,
   "metadata": {},
   "outputs": [],
   "source": [
    "# Generate the output of a random model\n",
    "\n",
    "def rnd_model_predict(P, size, seed=42):\n",
    "    \n",
    "    rng = np.random.default_rng(seed=seed)\n",
    "    return rng.binomial(n=1, p=P, size=size)"
   ]
  },
  {
   "cell_type": "code",
   "execution_count": null,
   "metadata": {},
   "outputs": [
    {
     "data": {
      "text/plain": [
       "array([0, 1])"
      ]
     },
     "execution_count": 57,
     "metadata": {},
     "output_type": "execute_result"
    }
   ],
   "source": [
    "df['insurance_benefits_received'].unique()"
   ]
  },
  {
   "cell_type": "code",
   "execution_count": null,
   "metadata": {},
   "outputs": [
    {
     "ename": "NameError",
     "evalue": "name 'y_pred_rnd' is not defined",
     "output_type": "error",
     "traceback": [
      "\u001b[0;31m---------------------------------------------------------------------------\u001b[0m",
      "\u001b[0;31mNameError\u001b[0m                                 Traceback (most recent call last)",
      "Cell \u001b[0;32mIn[58], line 1\u001b[0m\n\u001b[0;32m----> 1\u001b[0m \u001b[43my_pred_rnd\u001b[49m\n",
      "\u001b[0;31mNameError\u001b[0m: name 'y_pred_rnd' is not defined"
     ]
    }
   ],
   "source": [
    "y_pred_rnd"
   ]
  },
  {
   "cell_type": "code",
   "execution_count": null,
   "metadata": {},
   "outputs": [],
   "source": [
    "# Simulación con diferentes probabilidades\n",
    "for P in [0, df['insurance_benefits_received'].sum() / len(df), 0.5, 1]:\n",
    "    print(f'La probabilidad: {P:.2f}')\n",
    "\n",
    "# Generar predicciones aleatorias con probabilidad P de ser 1\n",
    "y_pred_rnd = np.random.choice([0, 1], size=len(df), p=[1 - P, P])\n",
    "    \n",
    "# Evaluar con la función definida\n",
    "eval_classifier(df['insurance_benefits_received'], y_pred_rnd)\n",
    "print()"
   ]
  },
  {
   "cell_type": "markdown",
   "metadata": {},
   "source": [
    "Se simularon 4 modelos \"dummy\" que predicen 1 con probabilidad:\n",
    "\n",
    "* 0.0 (nadie recibe beneficios)\n",
    "\n",
    "* ≈ P_real (misma proporción que en los datos reales)\n",
    "\n",
    "* 0.5 (completamente aleatorio)\n",
    "\n",
    "* 1.0 (todos reciben beneficios)\n",
    "\n",
    "Evalúa el rendimiento con:\n",
    "\n",
    "* F1 score: combina precisión y recall, ideal para clases desbalanceadas.\n",
    "\n",
    "* Matriz de confusión normalizada: muestra cómo se distribuyen los aciertos y errores."
   ]
  },
  {
   "cell_type": "code",
   "execution_count": null,
   "metadata": {},
   "outputs": [],
   "source": [
    "f1_scores_original = []\n",
    "f1_scores_scaled = []\n",
    "\n",
    "for k in range(1, 11):\n",
    "    knn = KNeighborsClassifier(n_neighbors=k)\n",
    "    knn.fit(X_train, y_train)\n",
    "    y_pred = knn.predict(X_test)\n",
    "    f1_scores_original.append(f1_score(y_test, y_pred))\n",
    "\n",
    "    knn_scaled = KNeighborsClassifier(n_neighbors=k)\n",
    "    knn_scaled.fit(X_train_scaled, y_train)\n",
    "    y_pred_scaled = knn_scaled.predict(X_test_scaled)\n",
    "    f1_scores_scaled.append(f1_score(y_test, y_pred_scaled))\n"
   ]
  },
  {
   "cell_type": "code",
   "execution_count": null,
   "metadata": {},
   "outputs": [],
   "source": [
    "dummy_probs = [0, y.mean(), 0.5, 1]\n",
    "f1_scores_dummy = []\n",
    "\n",
    "for P in dummy_probs:\n",
    "    y_dummy = np.random.choice([0, 1], size=len(y_test), p=[1 - P, P])\n",
    "    f1_scores_dummy.append(f1_score(y_test, y_dummy))\n",
    "\n",
    "plt.figure(figsize=(10, 6))\n",
    "plt.plot(range(1, 11), f1_scores_original, marker='o', label='kNN (sin escalar)')\n",
    "plt.plot(range(1, 11), f1_scores_scaled, marker='s', label='kNN (escalado)')\n",
    "\n",
    "colors = ['gray', 'orange', 'green', 'red']\n",
    "labels = ['Dummy p=0', f'Dummy p≈{y.mean():.2f}', 'Dummy p=0.5', 'Dummy p=1']\n",
    "\n",
    "for i in range(4):\n",
    "    plt.axhline(y=f1_scores_dummy[i], color=colors[i], linestyle='--', label=labels[i])\n",
    "\n",
    "plt.xlabel('Valor de k')\n",
    "plt.ylabel('F1 Score')\n",
    "plt.title('Comparación F1: kNN vs Dummy Classifiers')\n",
    "plt.legend()\n",
    "plt.grid(True)\n",
    "plt.show()\n"
   ]
  },
  {
   "cell_type": "markdown",
   "metadata": {},
   "source": [
    "* El gráfico muestra el desempeño del clasificador k-Nearest Neighbors (kNN) evaluado con la métrica F1 en función del número de vecinos 𝑘 para dos versiones de los datos: sin escalado y escalados mediante MaxAbsScaler. Además, se incluyen líneas horizontales que representan el rendimiento de modelos Dummy que generan predicciones aleatorias con distintas probabilidades de asignar la clase positiva.\n",
    "\n",
    "Se observa que:\n",
    "* El modelo kNN con datos escalados considerablemente supera en desempeño al modelo sin escalado, evidenciando la importancia del preprocesamiento para algoritmos basados en distancias.\n",
    "* El rendimiento del kNN varía con el valor de 𝑘 generalmente mostrando mejores resultados con valores intermedios.\n",
    "* Los modelos Dummy, que simulan predicciones aleatorias con diferentes probabilidades, tienen un desempeño significativamente inferior al kNN escalado, lo que indica que el clasificador kNN captura patrones relevantes para la clasificación.\n",
    "* La métrica F1 baja en todos los casos refleja un desequilibrio en las clases, por lo que el uso de F1 es adecuado para evaluar el modelo.\n",
    "\n",
    "En conclusión, el escalado de las características mejora notablemente la capacidad predictiva del kNN, y el modelo kNN es capaz de superar modelos de referencia aleatorios, validando su utilidad para esta tarea de clasificación binaria."
   ]
  },
  {
   "cell_type": "markdown",
   "metadata": {},
   "source": [
    "# Tarea 3. Regresión (con regresión lineal)"
   ]
  },
  {
   "cell_type": "markdown",
   "metadata": {},
   "source": [
    "Con `insurance_benefits` como objetivo, evalúa cuál sería la RECM de un modelo de regresión lineal."
   ]
  },
  {
   "cell_type": "markdown",
   "metadata": {},
   "source": [
    "Construye tu propia implementación de regresión lineal. Para ello, recuerda cómo está formulada la solución de la tarea de regresión lineal en términos de LA. Comprueba la RECM tanto para los datos originales como para los escalados. ¿Puedes ver alguna diferencia en la RECM con respecto a estos dos casos?\n",
    "\n",
    "Denotemos\n",
    "- $X$: matriz de características; cada fila es un caso, cada columna es una característica, la primera columna está formada por unidades\n",
    "- $y$ — objetivo (un vector)\n",
    "- $\\hat{y}$ — objetivo estimado (un vector)\n",
    "- $w$ — vector de pesos\n",
    "\n",
    "La tarea de regresión lineal en el lenguaje de las matrices puede formularse así:\n",
    "\n",
    "$$\n",
    "y = Xw\n",
    "$$\n",
    "\n",
    "El objetivo de entrenamiento es entonces encontrar esa $w$ w que minimice la distancia L2 (ECM) entre $Xw$ y $y$:\n",
    "\n",
    "$$\n",
    "\\min_w d_2(Xw, y) \\quad \\text{or} \\quad \\min_w \\text{MSE}(Xw, y)\n",
    "$$\n",
    "\n",
    "Parece que hay una solución analítica para lo anteriormente expuesto:\n",
    "\n",
    "$$\n",
    "w = (X^T X)^{-1} X^T y\n",
    "$$\n",
    "\n",
    "La fórmula anterior puede servir para encontrar los pesos $w$ y estos últimos pueden utilizarse para calcular los valores predichos\n",
    "\n",
    "$$\n",
    "\\hat{y} = X_{val}w\n",
    "$$"
   ]
  },
  {
   "cell_type": "markdown",
   "metadata": {},
   "source": [
    "Divide todos los datos correspondientes a las etapas de entrenamiento/prueba respetando la proporción 70:30. Utiliza la métrica RECM para evaluar el modelo."
   ]
  },
  {
   "cell_type": "code",
   "execution_count": null,
   "metadata": {},
   "outputs": [],
   "source": [
    "class MyLinearRegression:\n",
    "    \n",
    "    def __init__(self):\n",
    "        self.weights = None\n",
    "    \n",
    "    def fit(self, X, y):\n",
    "        # Añadir columna de unos (bias/intercepto)\n",
    "        X_b = np.hstack([np.ones((X.shape[0], 1)), X])\n",
    "        # Fórmula cerrada: w = (XᵀX)^(-1)Xᵀy\n",
    "        self.weights = np.linalg.inv(X_b.T @ X_b) @ X_b.T @ y\n",
    "\n",
    "    def predict(self, X):\n",
    "        X_b = np.hstack([np.ones((X.shape[0], 1)), X])\n",
    "        return X_b @ self.weights"
   ]
  },
  {
   "cell_type": "code",
   "execution_count": null,
   "metadata": {},
   "outputs": [],
   "source": [
    "def eval_regressor(y_true, y_pred):\n",
    "    \n",
    "    rmse = math.sqrt(sklearn.metrics.mean_squared_error(y_true, y_pred))\n",
    "    print(f'RMSE: {rmse:.2f}')\n",
    "    \n",
    "    r2_score = math.sqrt(sklearn.metrics.r2_score(y_true, y_pred))\n",
    "    print(f'R2: {r2_score:.2f}')    "
   ]
  },
  {
   "cell_type": "code",
   "execution_count": null,
   "metadata": {},
   "outputs": [],
   "source": [
    "df['insurance_benefits'].to_numpy()"
   ]
  },
  {
   "cell_type": "code",
   "execution_count": null,
   "metadata": {},
   "outputs": [],
   "source": [
    "X = df[['age', 'gender', 'income', 'family_members']].to_numpy()\n",
    "y = df['insurance_benefits'].to_numpy()\n",
    "\n",
    "X_train, X_test, y_train, y_test = train_test_split(X, y, test_size=0.3, random_state=12345)\n",
    "\n",
    "lr = MyLinearRegression()\n",
    "\n",
    "lr.fit(X_train, y_train)\n",
    "print(lr.weights)\n",
    "\n",
    "y_test_pred = lr.predict(X_test)\n",
    "eval_regressor(y_test, y_test_pred)"
   ]
  },
  {
   "cell_type": "markdown",
   "metadata": {},
   "source": [
    "# Tarea 4. Ofuscar datos"
   ]
  },
  {
   "cell_type": "markdown",
   "metadata": {},
   "source": [
    "Lo mejor es ofuscar los datos multiplicando las características numéricas (recuerda que se pueden ver como la matriz $X$) por una matriz invertible $P$. \n",
    "\n",
    "$$\n",
    "X' = X \\times P\n",
    "$$\n",
    "\n",
    "Trata de hacerlo y comprueba cómo quedarán los valores de las características después de la transformación. Por cierto, la propiedad de invertibilidad es importante aquí, así que asegúrate de que $P$ sea realmente invertible.\n",
    "\n",
    "Puedes revisar la lección 'Matrices y operaciones matriciales -> Multiplicación de matrices' para recordar la regla de multiplicación de matrices y su implementación con NumPy."
   ]
  },
  {
   "cell_type": "code",
   "execution_count": null,
   "metadata": {},
   "outputs": [],
   "source": [
    "personal_info_column_list = ['gender', 'age', 'income', 'family_members']\n",
    "df_pn = df[personal_info_column_list]"
   ]
  },
  {
   "cell_type": "code",
   "execution_count": null,
   "metadata": {},
   "outputs": [],
   "source": [
    "X = df_pn.to_numpy()"
   ]
  },
  {
   "cell_type": "markdown",
   "metadata": {},
   "source": [
    "Generar una matriz aleatoria $P$."
   ]
  },
  {
   "cell_type": "code",
   "execution_count": null,
   "metadata": {},
   "outputs": [],
   "source": [
    "rng = np.random.default_rng(seed=42)\n",
    "P = rng.random(size=(X.shape[1], X.shape[1]))"
   ]
  },
  {
   "cell_type": "markdown",
   "metadata": {},
   "source": [
    "Comprobar que la matriz P sea invertible"
   ]
  },
  {
   "cell_type": "code",
   "execution_count": null,
   "metadata": {},
   "outputs": [
    {
     "name": "stdout",
     "output_type": "stream",
     "text": [
      "Si es invertible\n"
     ]
    }
   ],
   "source": [
    "try:\n",
    "    P_inv = np.linalg.inv(P)\n",
    "    print(\"Si es invertible\")\n",
    "except:\n",
    "    print(\"No es invertible\")"
   ]
  },
  {
   "cell_type": "markdown",
   "metadata": {},
   "source": [
    "¿Puedes adivinar la edad o los ingresos de los clientes después de la transformación?"
   ]
  },
  {
   "cell_type": "code",
   "execution_count": null,
   "metadata": {},
   "outputs": [
    {
     "data": {
      "text/plain": [
       "array([[ 6359.72, 22380.4 , 18424.09, 46000.7 ],\n",
       "       [ 4873.29, 17160.37, 14125.78, 35253.46],\n",
       "       [ 2693.12,  9486.4 ,  7808.83, 19484.86],\n",
       "       ...,\n",
       "       [ 4346.22, 15289.24, 12586.16, 31433.51],\n",
       "       [ 4194.09, 14751.99, 12144.03, 30323.89],\n",
       "       [ 5205.47, 18314.25, 15077.01, 37649.59]])"
      ]
     },
     "execution_count": 63,
     "metadata": {},
     "output_type": "execute_result"
    }
   ],
   "source": [
    "X_obf = np.dot(X, P)\n",
    "X_obf"
   ]
  },
  {
   "cell_type": "markdown",
   "metadata": {},
   "source": [
    "¿Puedes recuperar los datos originales de $X'$ si conoces $P$? Intenta comprobarlo a través de los cálculos moviendo $P$ del lado derecho de la fórmula anterior al izquierdo. En este caso las reglas de la multiplicación matricial son realmente útiles"
   ]
  },
  {
   "cell_type": "code",
   "execution_count": null,
   "metadata": {},
   "outputs": [
    {
     "data": {
      "text/plain": [
       "array([[    1.,    41., 49600.,     1.],\n",
       "       [    0.,    46., 38000.,     1.],\n",
       "       [   -0.,    29., 21000.,    -0.],\n",
       "       ...,\n",
       "       [    0.,    20., 33900.,     2.],\n",
       "       [    1.,    22., 32700.,     3.],\n",
       "       [    1.,    28., 40600.,     1.]])"
      ]
     },
     "execution_count": 64,
     "metadata": {},
     "output_type": "execute_result"
    }
   ],
   "source": [
    "X_rec = X_obf @ P_inv\n",
    "X_rec"
   ]
  },
  {
   "cell_type": "markdown",
   "metadata": {},
   "source": [
    "Muestra los tres casos para algunos clientes\n",
    "- Datos originales\n",
    "- El que está transformado\n",
    "- El que está invertido (recuperado)"
   ]
  },
  {
   "cell_type": "code",
   "execution_count": null,
   "metadata": {},
   "outputs": [
    {
     "name": "stdout",
     "output_type": "stream",
     "text": [
      "=== DATOS ORIGINALES ===\n",
      "[[    1.    41. 49600.     1.]\n",
      " [    0.    46. 38000.     1.]\n",
      " [    0.    29. 21000.     0.]\n",
      " [    0.    21. 41700.     2.]\n",
      " [    1.    28. 26100.     0.]]\n",
      "\n",
      "=== DATOS TRANSFORMADOS (X_obf) ===\n",
      "[[ 6359.72 22380.4  18424.09 46000.7 ]\n",
      " [ 4873.29 17160.37 14125.78 35253.46]\n",
      " [ 2693.12  9486.4   7808.83 19484.86]\n",
      " [ 5345.6  18803.23 15479.15 38663.06]\n",
      " [ 3347.18 11782.83  9700.   24211.27]]\n",
      "\n",
      "=== DATOS RECUPERADOS (X_rec) ===\n",
      "[[    1.    41. 49600.     1.]\n",
      " [    0.    46. 38000.     1.]\n",
      " [   -0.    29. 21000.    -0.]\n",
      " [   -0.    21. 41700.     2.]\n",
      " [    1.    28. 26100.    -0.]]\n"
     ]
    }
   ],
   "source": [
    "# Mostrar resultados: original, transformado y recuperado\n",
    "n = 5  # número de filas a mostrar\n",
    "np.set_printoptions(precision=2, suppress=True)\n",
    "\n",
    "print(\"=== DATOS ORIGINALES ===\")\n",
    "print(X[:n])\n",
    "\n",
    "print(\"\\n=== DATOS TRANSFORMADOS (X_obf) ===\")\n",
    "print(X_obf[:n])\n",
    "\n",
    "print(\"\\n=== DATOS RECUPERADOS (X_rec) ===\")\n",
    "print(np.round(X_rec[:n], 2))  # redondeamos para facilitar la comparación"
   ]
  },
  {
   "cell_type": "markdown",
   "metadata": {},
   "source": [
    "Seguramente puedes ver que algunos valores no son exactamente iguales a los de los datos originales. ¿Cuál podría ser la razón de ello?"
   ]
  },
  {
   "cell_type": "markdown",
   "metadata": {},
   "source": [
    "1. Errores de redondeo y precisión numérica\n",
    "Las operaciones con números de punto flotante (float64) no son exactas en la computadora debido a cómo se representan los decimales en binario.\n",
    "\n",
    "Cuando haces:\n",
    "X_obf = X @ P\n",
    "X_rec = X_obf @ np.linalg.inv(P)\n",
    "estás haciendo múltiples multiplicaciones y una inversión de matriz, lo que introduce pequeños errores de redondeo acumulados.\n",
    "\n",
    "2. Condicionamiento de la matriz P\n",
    "Si P no está bien condicionada (es decir, su determinante es muy pequeño o está cerca de ser singular), entonces su inversión es numéricamente inestable, y los errores se amplifican.\n",
    "En tu caso, P es generada aleatoriamente con rng.random(...), por lo que no hay garantía de que sea bien condicionada.\n",
    "\n",
    "3. Limitaciones del tipo de datos (float64)\n",
    "Aunque float64 es bastante preciso (≈15 dígitos decimales), no puede representar todos los números reales con exactitud. Así que incluso si P fuera perfectamente invertible, no se puede recuperar exactamente el número original en todos los casos.\n",
    "\n",
    "4. Uso de funciones numéricas (como np.linalg.inv)\n",
    "La función np.linalg.inv() utiliza algoritmos numéricos que introducen errores pequeños por naturaleza. Esto también se ve en np.dot o @."
   ]
  },
  {
   "cell_type": "markdown",
   "metadata": {},
   "source": [
    "## Prueba de que la ofuscación de datos puede funcionar con regresión lineal"
   ]
  },
  {
   "cell_type": "markdown",
   "metadata": {},
   "source": [
    "En este proyecto la tarea de regresión se ha resuelto con la regresión lineal. Tu siguiente tarea es demostrar _analytically_ que el método de ofuscación no afectará a la regresión lineal en términos de valores predichos, es decir, que sus valores seguirán siendo los mismos. ¿Lo puedes creer? Pues no hace falta que lo creas, ¡tienes que que demostrarlo!"
   ]
  },
  {
   "cell_type": "markdown",
   "metadata": {},
   "source": [
    "Entonces, los datos están ofuscados y ahora tenemos $X \\times P$ en lugar de tener solo $X$. En consecuencia, hay otros pesos $w_P$ como\n",
    "$$\n",
    "w = (X^T X)^{-1} X^T y \\quad \\Rightarrow \\quad w_P = [(XP)^T XP]^{-1} (XP)^T y\n",
    "$$\n",
    "\n",
    "¿Cómo se relacionarían $w$ y $w_P$ si simplificáramos la fórmula de $w_P$ anterior? \n",
    "\n",
    "¿Cuáles serían los valores predichos con $w_P$? \n",
    "\n",
    "¿Qué significa esto para la calidad de la regresión lineal si esta se mide mediante la RECM?\n",
    "\n",
    "Revisa el Apéndice B Propiedades de las matrices al final del cuaderno. ¡Allí encontrarás fórmulas muy útiles!\n",
    "\n",
    "No es necesario escribir código en esta sección, basta con una explicación analítica."
   ]
  },
  {
   "cell_type": "markdown",
   "metadata": {},
   "source": [
    "**Respuesta**"
   ]
  },
  {
   "cell_type": "markdown",
   "metadata": {},
   "source": [
    "<div class=\"alert alert-block alert-info\">\n",
    "<b>Respuesta del estudiante</b> <a class=\"tocSkip\"></a>\n",
    "    \n",
    "<h2>Justificación de que la ofuscación de datos puede funcionar con regresión lineal</h2>\n",
    "\n",
    "<p>Entonces, los datos están ofuscados y ahora tenemos \\( X \\times P \\) en lugar de tener solo \\( X \\).</p>\n",
    "\n",
    "<p>En consecuencia, hay otros pesos \\( w_P \\):</p>\n",
    "\n",
    "<p>\n",
    "\\[\n",
    "w = (X^T X)^{-1} X^T y \\quad \\Rightarrow \\quad w_P = \\left[(XP)^T XP\\right]^{-1} (XP)^T y\n",
    "\\]\n",
    "</p>\n",
    "\n",
    "<p><b>Preguntas clave:</b></p>\n",
    "<ul>\n",
    "<li>¿Cómo se relacionarían \\( w \\) y \\( w_P \\) si simplificáramos la fórmula de \\( w_P \\)?</li>\n",
    "<li>¿Cuáles serían los valores predichos con \\( w_P \\)?</li>\n",
    "<li>¿Qué significa esto para la calidad de la regresión lineal si esta se mide mediante la RECM?</li>\n",
    "</ul>\n",
    "\n",
    "<hr>\n",
    "\n",
    "<h3>Justificación analítica</h3>\n",
    "\n",
    "<p>Se sabe que:</p>\n",
    "<ul>\n",
    "<li>\\( X \\): matriz de características (numérica)</li>\n",
    "<li>\\( y \\): vector objetivo</li>\n",
    "<li>\\( P \\): matriz aleatoria usada para modificar las características originales</li>\n",
    "<li>\\( w \\): vector de pesos</li>\n",
    "</ul>\n",
    "\n",
    "<p>Las predicciones de un modelo están dadas por:</p>\n",
    "\n",
    "<p>\n",
    "\\[\n",
    "a = Xw\n",
    "\\]\n",
    "</p>\n",
    "\n",
    "<p>La fórmula para entrenar un modelo es:</p>\n",
    "\n",
    "<p>\n",
    "\\[\n",
    "w = (X^T X)^{-1} X^T y\n",
    "\\]\n",
    "</p>\n",
    "\n",
    "<p>Los datos ofuscados están dados por:</p>\n",
    "\n",
    "<p>\n",
    "\\[\n",
    "X' = XP\n",
    "\\]\n",
    "</p>\n",
    "\n",
    "<p>Se sustituye \\( X' \\) en la fórmula de entrenamiento:</p>\n",
    "\n",
    "<p>\n",
    "\\[\n",
    "w = \\left((XP)^T XP\\right)^{-1} (XP)^T y\n",
    "\\]\n",
    "</p>\n",
    "\n",
    "<hr>\n",
    "\n",
    "<p>La propiedad de reversibilidad de la transposición de un producto de matrices establece que:</p>\n",
    "\n",
    "<p>\n",
    "\\[\n",
    "(AB)^T = B^T A^T\n",
    "\\]\n",
    "</p>\n",
    "\n",
    "\n",
    "<p>Entonces:</p>\n",
    "\n",
    "<p>\n",
    "\\[\n",
    "w' = \\left(P^T X^T X P\\right)^{-1} P^T X^T y\n",
    "\\]\n",
    "</p>\n",
    "\n",
    "<p>La propiedad de identidad multiplicativa de matrices establece que:</p>\n",
    "<ul>\n",
    "<li>\\( (AB)^{-1} = B^{-1} A^{-1} \\)</li>\n",
    "<li>\\( A^{-1} A = AA^{-1} = I \\)</li>\n",
    "</ul>\n",
    "\n",
    "<p>Entonces:</p>\n",
    "\n",
    "<p>\n",
    "\\[\n",
    "w' = (P^T)^{-1} (X^T X)^{-1} P^{-1} P^T X^T y\n",
    "\\]\n",
    "\n",
    "Al multiplicar \\( (P^T)^{-1} P^T \\), esto resulta en la identidad.  \n",
    "Por tanto:\n",
    "\n",
    "\\[\n",
    "w' = P^{-1} (X^T X)^{-1} X^T y\n",
    "\\]\n",
    "</p>\n",
    "\n",
    "<hr>\n",
    "\n",
    "<p>Recordando que:</p>\n",
    "<ul>\n",
    "<li>\\( w = (X^T X)^{-1} X^T y \\)</li>\n",
    "<li>\\( a = Xw \\)</li>\n",
    "</ul>\n",
    "\n",
    "<p>Entonces:</p>\n",
    "\n",
    "<p>\n",
    "\\[\n",
    "w' = P^{-1} w\n",
    "\\]\n",
    "</p>\n",
    "\n",
    "<p>Y las predicciones estarían dadas por:</p>\n",
    "\n",
    "<p>\n",
    "\\[\n",
    "a' = X' w'\n",
    "\\]\n",
    "</p>\n",
    "\n",
    "<hr>\n",
    "\n",
    "<p>Sabiendo que:</p>\n",
    "<ul>\n",
    "<li>\\( X' = XP \\)</li>\n",
    "<li>\\( w' = P^{-1} w \\)</li>\n",
    "<li>\\( a = Xw \\)</li>\n",
    "</ul>\n",
    "\n",
    "<p>Entonces:</p>\n",
    "\n",
    "<p>\n",
    "\\[\n",
    "a' = X' w' \\quad \\Rightarrow \\quad a' = X P w' \\quad \\Rightarrow \\quad a' = X P P^{-1} w\n",
    "\\]\n",
    "</p>\n",
    "\n",
    "<p>Dado que \\( P P^{-1} = I \\), tenemos:</p>\n",
    "\n",
    "<p>\n",
    "\\[\n",
    "a' = Xw \\quad \\Rightarrow \\quad a' = a\n",
    "\\]\n",
    "</p>\n",
    "\n",
    "<hr>\n",
    "\n",
    "<p><b>Conclusión:</b> El análisis anterior demuestra que la predicción permanece sin cambios a pesar de modificar la matriz \\( X \\) mediante una matriz aleatoria invertible \\( P \\). Esto significa que podemos aplicar ofuscación en los datos sin perder precisión en la regresión lineal.</p>\n",
    "\n",
    "</div>\n"
   ]
  },
  {
   "cell_type": "markdown",
   "metadata": {},
   "source": [
    "**Prueba analítica**"
   ]
  },
  {
   "cell_type": "markdown",
   "metadata": {},
   "source": []
  },
  {
   "cell_type": "markdown",
   "metadata": {},
   "source": [
    "## Prueba de regresión lineal con ofuscación de datos"
   ]
  },
  {
   "cell_type": "markdown",
   "metadata": {},
   "source": [
    "Ahora, probemos que la regresión lineal pueda funcionar, en términos computacionales, con la transformación de ofuscación elegida.\n",
    "\n",
    "Construye un procedimiento o una clase que ejecute la regresión lineal opcionalmente con la ofuscación. Puedes usar una implementación de regresión lineal de scikit-learn o tu propia implementación.\n",
    "\n",
    "Ejecuta la regresión lineal para los datos originales y los ofuscados, compara los valores predichos y los valores de las métricas RMSE y $R^2$. ¿Hay alguna diferencia?"
   ]
  },
  {
   "cell_type": "markdown",
   "metadata": {},
   "source": [
    "**Procedimiento**\n",
    "\n",
    "- Crea una matriz cuadrada $P$ de números aleatorios.\n",
    "- Comprueba que sea invertible. Si no lo es, repite el primer paso hasta obtener una matriz invertible.\n",
    "- <¡ tu comentario aquí !>\n",
    "- Utiliza $XP$ como la nueva matriz de características"
   ]
  },
  {
   "cell_type": "code",
   "execution_count": null,
   "metadata": {},
   "outputs": [],
   "source": [
    "personal_info_column_list = ['gender', 'age', 'income', 'family_members']\n",
    "df_pn = df[personal_info_column_list]\n",
    "X = df_pn.to_numpy()\n",
    "rng = np.random.default_rng(seed=42)\n",
    "P = rng.random(size=(X.shape[1], X.shape[1]))\n",
    "X_obf = np.dot(X, P)"
   ]
  },
  {
   "cell_type": "code",
   "execution_count": null,
   "metadata": {},
   "outputs": [],
   "source": [
    "X = X_obf\n",
    "y = df['insurance_benefits'].to_numpy()\n",
    "\n",
    "X_train, X_test, y_train, y_test = train_test_split(X, y, test_size=0.3, random_state=12345)\n",
    "\n",
    "lr = MyLinearRegression()\n",
    "\n",
    "lr.fit(X_train, y_train)\n",
    "print(lr.weights)\n",
    "\n",
    "y_test_pred = lr.predict(X_test)\n",
    "eval_regressor(y_test, y_test_pred)"
   ]
  },
  {
   "cell_type": "markdown",
   "metadata": {},
   "source": [
    "# Conclusiones"
   ]
  },
  {
   "cell_type": "markdown",
   "metadata": {},
   "source": [
    "La regresión lineal funciona correctamente incluso cuando los datos han sido ofuscados con una matriz invertible, siempre que la misma transformación se aplique de forma coherente. Las métricas como RMSE y R² se mantienen prácticamente idénticas entre los modelos entrenados con los datos originales y los ofuscados.\n",
    "\n",
    "Esto demuestra que la ofuscación preserva la estructura matemática subyacente necesaria para el aprendizaje, aunque oculta los valores reales, lo cual puede ser útil para proteger la privacidad sin sacrificar la capacidad predictiva del modelo."
   ]
  },
  {
   "cell_type": "code",
   "execution_count": null,
   "metadata": {},
   "outputs": [],
   "source": []
  },
  {
   "cell_type": "markdown",
   "metadata": {},
   "source": [
    "# Lista de control"
   ]
  },
  {
   "cell_type": "markdown",
   "metadata": {},
   "source": [
    "Escribe 'x' para verificar. Luego presiona Shift+Enter."
   ]
  },
  {
   "cell_type": "markdown",
   "metadata": {},
   "source": [
    "# Apéndices\n",
    "\n",
    "## Apéndice A: Escribir fórmulas en los cuadernos de Jupyter"
   ]
  },
  {
   "cell_type": "markdown",
   "metadata": {},
   "source": [
    "Puedes escribir fórmulas en tu Jupyter Notebook utilizando un lenguaje de marcado proporcionado por un sistema de publicación de alta calidad llamado $\\LaTeX$ (se pronuncia como \"Lah-tech\"). Las fórmulas se verán como las de los libros de texto.\n",
    "\n",
    "Para incorporar una fórmula a un texto, pon el signo de dólar (\\\\$) antes y después del texto de la fórmula, por ejemplo: $\\frac{1}{2} \\times \\frac{3}{2} = \\frac{3}{4}$ or $y = x^2, x \\ge 1$.\n",
    "\n",
    "Si una fórmula debe estar en el mismo párrafo, pon el doble signo de dólar (\\\\$\\\\$) antes y después del texto de la fórmula, por ejemplo:\n",
    "\n",
    "$$\n",
    "\\bar{x} = \\frac{1}{n}\\sum_{i=1}^{n} x_i.\n",
    "$$\n",
    "\n",
    "El lenguaje de marcado de [LaTeX](https://es.wikipedia.org/wiki/LaTeX) es muy popular entre las personas que utilizan fórmulas en sus artículos, libros y textos. Puede resultar complicado, pero sus fundamentos son sencillos. Consulta esta [ficha de ayuda](http://tug.ctan.org/info/undergradmath/undergradmath.pdf) (materiales en inglés) de dos páginas para aprender a componer las fórmulas más comunes."
   ]
  },
  {
   "cell_type": "markdown",
   "metadata": {},
   "source": [
    "## Apéndice B: Propiedades de las matrices"
   ]
  },
  {
   "cell_type": "markdown",
   "metadata": {},
   "source": [
    "Las matrices tienen muchas propiedades en cuanto al álgebra lineal. Aquí se enumeran algunas de ellas que pueden ayudarte a la hora de realizar la prueba analítica de este proyecto."
   ]
  },
  {
   "cell_type": "markdown",
   "metadata": {},
   "source": [
    "<table>\n",
    "<tr>\n",
    "<td>Distributividad</td><td>$A(B+C)=AB+AC$</td>\n",
    "</tr>\n",
    "<tr>\n",
    "<td>No conmutatividad</td><td>$AB \\neq BA$</td>\n",
    "</tr>\n",
    "<tr>\n",
    "<td>Propiedad asociativa de la multiplicación</td><td>$(AB)C = A(BC)$</td>\n",
    "</tr>\n",
    "<tr>\n",
    "<td>Propiedad de identidad multiplicativa</td><td>$IA = AI = A$</td>\n",
    "</tr>\n",
    "<tr>\n",
    "<td></td><td>$A^{-1}A = AA^{-1} = I$\n",
    "</td>\n",
    "</tr>    \n",
    "<tr>\n",
    "<td></td><td>$(AB)^{-1} = B^{-1}A^{-1}$</td>\n",
    "</tr>    \n",
    "<tr>\n",
    "<td>Reversibilidad de la transposición de un producto de matrices,</td><td>$(AB)^T = B^TA^T$</td>\n",
    "</tr>    \n",
    "</table>"
   ]
  },
  {
   "cell_type": "markdown",
   "metadata": {},
   "source": [
    "## Comentario general del revisor 2a iteración"
   ]
  },
  {
   "cell_type": "markdown",
   "metadata": {},
   "source": [
    "\n",
    "<div class=\"alert alert-block alert-danger\">\n",
    "\n",
    "<b>Comentario del revisor</b> <a class=\"tocSkip\"></a>\n",
    "\n",
    "Gracias por tu entrega. Has avanzado bastante, pero aún necesitas hacer algunas correcciones importantes antes de considerar tu proyecto como completo:\n",
    "\n",
    "### 🛠️ Áreas que necesitan revisión:\n",
    "\n",
    "- ❗ **Errores de ejecución:** Algunas celdas contienen errores de compilación como `NameError`. Es necesario que revises y corrijas estas secciones para que el notebook se ejecute de principio a fin sin fallos.\n",
    "  \n",
    "- ⚠️ **Secciones incompletas:** Falta el desarrollo de la sección de la **prueba analítica** sobre ofuscación en regresión lineal. Esta parte es fundamental para demostrar que el modelo funciona incluso cuando los datos están transformados.\n",
    "\n",
    "- 📉 **Comparación incompleta:** Si bien se aplica regresión lineal, no se muestra la comparación de métricas entre el modelo original y el modelo con datos ofuscados.\n",
    "\n",
    "### ✅ Aspectos positivos del proyecto:\n",
    "\n",
    "- ✔️ Has realizado una exploración de datos clara y meticulosa.\n",
    "- ✔️ Implementaste el modelo kNN y lo comparaste correctamente con clasificadores dummy.\n",
    "- ✔️ Utilizaste buenas prácticas al escalar los datos y analizar su impacto en los resultados.\n",
    "\n",
    "### 📌 Recomendaciones:\n",
    "\n",
    "1. Corrige los errores que impiden ejecutar todo el notebook sin interrupciones.\n",
    "2. Asegúrate de completar la justificación analítica (ya tienes una versión incluida como apoyo en esta revisión).\n",
    "3. Si tienes dudas sobre cómo hacerlo o necesitas orientación adicional, **no dudes en contactar a tu tutor.** Está allí para ayudarte a resolver cualquier dificultad técnica o conceptual.\n",
    "\n",
    "¡Ánimo! Con unos ajustes más, tu proyecto quedará listo para avanzar a la siguiente etapa. 🚀📈\n",
    "\n",
    "</div>\n"
   ]
  }
 ],
 "metadata": {
  "kernelspec": {
   "display_name": "Python 3 (ipykernel)",
   "language": "python",
   "name": "python3"
  },
  "language_info": {
   "codemirror_mode": {
    "name": "ipython",
    "version": 3
   },
   "file_extension": ".py",
   "mimetype": "text/x-python",
   "name": "python",
   "nbconvert_exporter": "python",
   "pygments_lexer": "ipython3",
   "version": "3.9.23"
  },
  "toc": {
   "base_numbering": 1,
   "nav_menu": {},
   "number_sections": true,
   "sideBar": true,
   "skip_h1_title": true,
   "title_cell": "Table of Contents",
   "title_sidebar": "Contents",
   "toc_cell": false,
   "toc_position": {},
   "toc_section_display": true,
   "toc_window_display": false
  }
 },
 "nbformat": 4,
 "nbformat_minor": 4
}
